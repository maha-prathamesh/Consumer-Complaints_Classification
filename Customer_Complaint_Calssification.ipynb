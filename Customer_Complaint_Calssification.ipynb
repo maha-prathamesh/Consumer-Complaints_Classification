{
 "cells": [
  {
   "cell_type": "markdown",
   "metadata": {},
   "source": [
    "# What is the problem?\n",
    "\n",
    "Let us get started with the introduction to natural language processing by first looking at the problem that we are going to solve. We have a rich dataset of consumer complaints on various financial products and services. Each row in the dataset describes the complaint and the different features associated with it. In this concept, we'll first construct the features and then build a model that predicts the category into which the complaint falls. You can read more about this dataset here.\n",
    "\n",
    "Along with the complaint narrative, the other features that are present in data are the issue, the category of the complaint, the date it was received on, the zip code, details of the customer placing the complaint and the current status of the complaint. The final idea is to build a model that will categorize each customer's complaint into a product (12 categories in all).\n",
    "\n",
    "For the purpose of understanding how text processing works, we will specifically, work on only 2 columns of this dataset. It is evident that if we add more features, the model accuracy will rise and be more robust."
   ]
  },
  {
   "cell_type": "markdown",
   "metadata": {
    "heading_collapsed": true
   },
   "source": [
    "# Brief explanation of the dataset & features\n",
    "\n",
    "Consumer Complaint Narrative: This is a paragraph (or text) written by the customer explaining his complaint in detail. The data is a string type consisting of text in the form of paragraphs.\n",
    "Product: This is the category we are to classify each complaint to. The 12 categories the complaints need to be categorized into are:\n",
    "'Mortgage', 'Student loan', 'Credit card or prepaid card', 'Credit card', 'Debt collection', 'Credit reporting', 'Credit reporting, credit repair services, or other personal consumer reports', 'Bank account or service', 'Consumer Loan', 'Money transfers', 'Vehicle loan or lease', 'Money transfer, virtual currency, or money service', 'Checking or savings account', 'Payday loan', 'Payday loan, title loan, or personal loan', 'Other financial service', 'Prepaid card'\n",
    "\n"
   ]
  },
  {
   "cell_type": "markdown",
   "metadata": {},
   "source": [
    "# What we want as the outcome?\n",
    "\n",
    "We would classify each complaint to its respective category, so that the complaint can be directed to the right vertical."
   ]
  },
  {
   "cell_type": "code",
   "execution_count": 1,
   "metadata": {},
   "outputs": [],
   "source": [
    "import pandas as pd"
   ]
  },
  {
   "cell_type": "code",
   "execution_count": 3,
   "metadata": {},
   "outputs": [
    {
     "data": {
      "text/html": [
       "<div>\n",
       "<style scoped>\n",
       "    .dataframe tbody tr th:only-of-type {\n",
       "        vertical-align: middle;\n",
       "    }\n",
       "\n",
       "    .dataframe tbody tr th {\n",
       "        vertical-align: top;\n",
       "    }\n",
       "\n",
       "    .dataframe thead th {\n",
       "        text-align: right;\n",
       "    }\n",
       "</style>\n",
       "<table border=\"1\" class=\"dataframe\">\n",
       "  <thead>\n",
       "    <tr style=\"text-align: right;\">\n",
       "      <th></th>\n",
       "      <th>Date received</th>\n",
       "      <th>Product</th>\n",
       "      <th>Sub-product</th>\n",
       "      <th>Issue</th>\n",
       "      <th>Sub-issue</th>\n",
       "      <th>Consumer complaint narrative</th>\n",
       "      <th>Company public response</th>\n",
       "      <th>Company</th>\n",
       "      <th>State</th>\n",
       "      <th>ZIP code</th>\n",
       "      <th>Tags</th>\n",
       "      <th>Consumer consent provided?</th>\n",
       "      <th>Submitted via</th>\n",
       "      <th>Date sent to company</th>\n",
       "      <th>Company response to consumer</th>\n",
       "      <th>Timely response?</th>\n",
       "      <th>Consumer disputed?</th>\n",
       "      <th>Complaint ID</th>\n",
       "    </tr>\n",
       "  </thead>\n",
       "  <tbody>\n",
       "    <tr>\n",
       "      <th>0</th>\n",
       "      <td>03/12/2014</td>\n",
       "      <td>Mortgage</td>\n",
       "      <td>Other mortgage</td>\n",
       "      <td>Loan modification,collection,foreclosure</td>\n",
       "      <td>NaN</td>\n",
       "      <td>NaN</td>\n",
       "      <td>NaN</td>\n",
       "      <td>M&amp;T BANK CORPORATION</td>\n",
       "      <td>MI</td>\n",
       "      <td>48382</td>\n",
       "      <td>NaN</td>\n",
       "      <td>NaN</td>\n",
       "      <td>Referral</td>\n",
       "      <td>03/17/2014</td>\n",
       "      <td>Closed with explanation</td>\n",
       "      <td>Yes</td>\n",
       "      <td>No</td>\n",
       "      <td>759217</td>\n",
       "    </tr>\n",
       "    <tr>\n",
       "      <th>1</th>\n",
       "      <td>01/19/2017</td>\n",
       "      <td>Student loan</td>\n",
       "      <td>Federal student loan servicing</td>\n",
       "      <td>Dealing with my lender or servicer</td>\n",
       "      <td>Received bad information about my loan</td>\n",
       "      <td>When my loan was switched over to Navient i wa...</td>\n",
       "      <td>NaN</td>\n",
       "      <td>Navient Solutions, LLC.</td>\n",
       "      <td>LA</td>\n",
       "      <td>NaN</td>\n",
       "      <td>NaN</td>\n",
       "      <td>Consent provided</td>\n",
       "      <td>Web</td>\n",
       "      <td>01/19/2017</td>\n",
       "      <td>Closed with explanation</td>\n",
       "      <td>Yes</td>\n",
       "      <td>No</td>\n",
       "      <td>2296496</td>\n",
       "    </tr>\n",
       "  </tbody>\n",
       "</table>\n",
       "</div>"
      ],
      "text/plain": [
       "  Date received       Product                     Sub-product  \\\n",
       "0    03/12/2014      Mortgage                  Other mortgage   \n",
       "1    01/19/2017  Student loan  Federal student loan servicing   \n",
       "\n",
       "                                      Issue  \\\n",
       "0  Loan modification,collection,foreclosure   \n",
       "1        Dealing with my lender or servicer   \n",
       "\n",
       "                                Sub-issue  \\\n",
       "0                                     NaN   \n",
       "1  Received bad information about my loan   \n",
       "\n",
       "                        Consumer complaint narrative Company public response  \\\n",
       "0                                                NaN                     NaN   \n",
       "1  When my loan was switched over to Navient i wa...                     NaN   \n",
       "\n",
       "                   Company State ZIP code Tags Consumer consent provided?  \\\n",
       "0     M&T BANK CORPORATION    MI    48382  NaN                        NaN   \n",
       "1  Navient Solutions, LLC.    LA      NaN  NaN           Consent provided   \n",
       "\n",
       "  Submitted via Date sent to company Company response to consumer  \\\n",
       "0      Referral           03/17/2014      Closed with explanation   \n",
       "1           Web           01/19/2017      Closed with explanation   \n",
       "\n",
       "  Timely response? Consumer disputed?  Complaint ID  \n",
       "0              Yes                 No        759217  \n",
       "1              Yes                 No       2296496  "
      ]
     },
     "execution_count": 3,
     "metadata": {},
     "output_type": "execute_result"
    }
   ],
   "source": [
    "# In this task you will load Consumer_complaints.csv into a dataframe \n",
    "# using pandas and explore the column Consumer Complaint Narrative.\n",
    "\n",
    "full_data = pd.read_csv(\"Consumer_complaints.csv\")\n",
    "full_data.head(2)"
   ]
  },
  {
   "cell_type": "code",
   "execution_count": 4,
   "metadata": {},
   "outputs": [],
   "source": [
    "# keeping the relevant columns\n",
    "data = full_data[[\"Consumer complaint narrative\", \"Product\"]]"
   ]
  },
  {
   "cell_type": "code",
   "execution_count": 5,
   "metadata": {},
   "outputs": [
    {
     "data": {
      "text/html": [
       "<div>\n",
       "<style scoped>\n",
       "    .dataframe tbody tr th:only-of-type {\n",
       "        vertical-align: middle;\n",
       "    }\n",
       "\n",
       "    .dataframe tbody tr th {\n",
       "        vertical-align: top;\n",
       "    }\n",
       "\n",
       "    .dataframe thead th {\n",
       "        text-align: right;\n",
       "    }\n",
       "</style>\n",
       "<table border=\"1\" class=\"dataframe\">\n",
       "  <thead>\n",
       "    <tr style=\"text-align: right;\">\n",
       "      <th></th>\n",
       "      <th>Consumer complaint narrative</th>\n",
       "      <th>Product</th>\n",
       "    </tr>\n",
       "  </thead>\n",
       "  <tbody>\n",
       "    <tr>\n",
       "      <th>0</th>\n",
       "      <td>NaN</td>\n",
       "      <td>Mortgage</td>\n",
       "    </tr>\n",
       "    <tr>\n",
       "      <th>1</th>\n",
       "      <td>When my loan was switched over to Navient i wa...</td>\n",
       "      <td>Student loan</td>\n",
       "    </tr>\n",
       "  </tbody>\n",
       "</table>\n",
       "</div>"
      ],
      "text/plain": [
       "                        Consumer complaint narrative       Product\n",
       "0                                                NaN      Mortgage\n",
       "1  When my loan was switched over to Navient i wa...  Student loan"
      ]
     },
     "execution_count": 5,
     "metadata": {},
     "output_type": "execute_result"
    }
   ],
   "source": [
    "data.head(2)"
   ]
  },
  {
   "cell_type": "code",
   "execution_count": 9,
   "metadata": {},
   "outputs": [
    {
     "name": "stderr",
     "output_type": "stream",
     "text": [
      "/opt/anaconda3/lib/python3.7/site-packages/pandas/core/frame.py:4303: SettingWithCopyWarning: \n",
      "A value is trying to be set on a copy of a slice from a DataFrame\n",
      "\n",
      "See the caveats in the documentation: https://pandas.pydata.org/pandas-docs/stable/user_guide/indexing.html#returning-a-view-versus-a-copy\n",
      "  errors=errors,\n"
     ]
    },
    {
     "data": {
      "text/html": [
       "<div>\n",
       "<style scoped>\n",
       "    .dataframe tbody tr th:only-of-type {\n",
       "        vertical-align: middle;\n",
       "    }\n",
       "\n",
       "    .dataframe tbody tr th {\n",
       "        vertical-align: top;\n",
       "    }\n",
       "\n",
       "    .dataframe thead th {\n",
       "        text-align: right;\n",
       "    }\n",
       "</style>\n",
       "<table border=\"1\" class=\"dataframe\">\n",
       "  <thead>\n",
       "    <tr style=\"text-align: right;\">\n",
       "      <th></th>\n",
       "      <th>X</th>\n",
       "      <th>y</th>\n",
       "    </tr>\n",
       "  </thead>\n",
       "  <tbody>\n",
       "    <tr>\n",
       "      <th>0</th>\n",
       "      <td>NaN</td>\n",
       "      <td>Mortgage</td>\n",
       "    </tr>\n",
       "    <tr>\n",
       "      <th>1</th>\n",
       "      <td>When my loan was switched over to Navient i wa...</td>\n",
       "      <td>Student loan</td>\n",
       "    </tr>\n",
       "  </tbody>\n",
       "</table>\n",
       "</div>"
      ],
      "text/plain": [
       "                                                   X             y\n",
       "0                                                NaN      Mortgage\n",
       "1  When my loan was switched over to Navient i wa...  Student loan"
      ]
     },
     "execution_count": 9,
     "metadata": {},
     "output_type": "execute_result"
    }
   ],
   "source": [
    "# Printing out the first non-empty value of the X column. Hence the second value, index is 1\n",
    "data.rename(columns={\"Consumer complaint narrative\": \"X\", \"Product\": \"y\"}, inplace=True)\n",
    "data.head(2)"
   ]
  },
  {
   "cell_type": "code",
   "execution_count": 13,
   "metadata": {},
   "outputs": [
    {
     "data": {
      "text/plain": [
       "X    8194\n",
       "y       0\n",
       "dtype: int64"
      ]
     },
     "execution_count": 13,
     "metadata": {},
     "output_type": "execute_result"
    }
   ],
   "source": [
    "data.isnull().sum()"
   ]
  },
  {
   "cell_type": "code",
   "execution_count": 14,
   "metadata": {},
   "outputs": [
    {
     "data": {
      "text/plain": [
       "(10000, 2)"
      ]
     },
     "execution_count": 14,
     "metadata": {},
     "output_type": "execute_result"
    }
   ],
   "source": [
    "data.shape"
   ]
  },
  {
   "cell_type": "code",
   "execution_count": 17,
   "metadata": {},
   "outputs": [
    {
     "data": {
      "text/html": [
       "<div>\n",
       "<style scoped>\n",
       "    .dataframe tbody tr th:only-of-type {\n",
       "        vertical-align: middle;\n",
       "    }\n",
       "\n",
       "    .dataframe tbody tr th {\n",
       "        vertical-align: top;\n",
       "    }\n",
       "\n",
       "    .dataframe thead th {\n",
       "        text-align: right;\n",
       "    }\n",
       "</style>\n",
       "<table border=\"1\" class=\"dataframe\">\n",
       "  <thead>\n",
       "    <tr style=\"text-align: right;\">\n",
       "      <th></th>\n",
       "      <th>X</th>\n",
       "      <th>y</th>\n",
       "    </tr>\n",
       "  </thead>\n",
       "  <tbody>\n",
       "    <tr>\n",
       "      <th>1</th>\n",
       "      <td>When my loan was switched over to Navient i wa...</td>\n",
       "      <td>Student loan</td>\n",
       "    </tr>\n",
       "    <tr>\n",
       "      <th>2</th>\n",
       "      <td>I tried to sign up for a spending monitoring p...</td>\n",
       "      <td>Credit card or prepaid card</td>\n",
       "    </tr>\n",
       "    <tr>\n",
       "      <th>7</th>\n",
       "      <td>My mortgage is with BB &amp; T Bank, recently I ha...</td>\n",
       "      <td>Mortgage</td>\n",
       "    </tr>\n",
       "  </tbody>\n",
       "</table>\n",
       "</div>"
      ],
      "text/plain": [
       "                                                   X  \\\n",
       "1  When my loan was switched over to Navient i wa...   \n",
       "2  I tried to sign up for a spending monitoring p...   \n",
       "7  My mortgage is with BB & T Bank, recently I ha...   \n",
       "\n",
       "                             y  \n",
       "1                 Student loan  \n",
       "2  Credit card or prepaid card  \n",
       "7                     Mortgage  "
      ]
     },
     "execution_count": 17,
     "metadata": {},
     "output_type": "execute_result"
    }
   ],
   "source": [
    "dataSub = data[data['X'].notna()]\n",
    "dataSub.head(3)"
   ]
  },
  {
   "cell_type": "code",
   "execution_count": 18,
   "metadata": {},
   "outputs": [
    {
     "data": {
      "text/plain": [
       "(1806, 2)"
      ]
     },
     "execution_count": 18,
     "metadata": {},
     "output_type": "execute_result"
    }
   ],
   "source": [
    "dataSub.shape"
   ]
  },
  {
   "cell_type": "code",
   "execution_count": 31,
   "metadata": {},
   "outputs": [],
   "source": [
    "import nltk\n",
    "from nltk.tokenize import word_tokenize"
   ]
  },
  {
   "cell_type": "code",
   "execution_count": 25,
   "metadata": {},
   "outputs": [
    {
     "data": {
      "text/plain": [
       "'When my loan was switched over to Navient i was never told that i had a deliquint balance because with XXXX i did not. When going to purchase a vehicle i discovered my credit score had been dropped from the XXXX into the XXXX. I have been faithful at paying my student loan. I was told that Navient was the company i had delinquency with. I contacted Navient to resolve this issue you and kept being told to just contact the credit bureaus and expalin the situation and maybe they could help me. I was so angry that i just hurried and paid the balance off and then after tried to dispute the delinquency with the credit bureaus. I have had so much trouble bringing my credit score back up.'"
      ]
     },
     "execution_count": 25,
     "metadata": {},
     "output_type": "execute_result"
    }
   ],
   "source": [
    "first_complaint = dataSub['X'].iloc[0]\n",
    "first_complaint"
   ]
  },
  {
   "cell_type": "code",
   "execution_count": 28,
   "metadata": {},
   "outputs": [],
   "source": [
    "# conver to lowercase\n",
    "def convertToLowerCase(text):\n",
    "    return text.lower()\n",
    "\n",
    "first_complaint = convertToLowerCase(first_complaint)"
   ]
  },
  {
   "cell_type": "markdown",
   "metadata": {},
   "source": [
    "# Pre Processing"
   ]
  },
  {
   "cell_type": "markdown",
   "metadata": {},
   "source": [
    "## Tokenizing with NLTK - The problem intuition"
   ]
  },
  {
   "cell_type": "markdown",
   "metadata": {},
   "source": [
    "We will first need to find a way to convert the text to numbers to get them to a form where you would be able to apply an algorithm to this. Think of this like sklearn, which require all non-numeric data to be encoded (label or one-hot) prior to the sklearn pipeline.\n",
    "\n",
    "Intuitively, it would make sense to divide each paragraph of text to its basic form (words) and then convert each of those words to numbers. We could assign a particular number to each word, in which case a sentence could look like a set of numbers to us, each number representing a particular word.\n",
    "\n",
    "The first step to achieving that would be to break the text down to words. That's what tokenization aims to do. NLTK has a built in libraries for tokenization which we will use for our purpose."
   ]
  },
  {
   "cell_type": "code",
   "execution_count": 29,
   "metadata": {},
   "outputs": [
    {
     "data": {
      "text/plain": [
       "'when my loan was switched over to navient i was never told that i had a deliquint balance because with xxxx i did not. when going to purchase a vehicle i discovered my credit score had been dropped from the xxxx into the xxxx. i have been faithful at paying my student loan. i was told that navient was the company i had delinquency with. i contacted navient to resolve this issue you and kept being told to just contact the credit bureaus and expalin the situation and maybe they could help me. i was so angry that i just hurried and paid the balance off and then after tried to dispute the delinquency with the credit bureaus. i have had so much trouble bringing my credit score back up.'"
      ]
     },
     "execution_count": 29,
     "metadata": {},
     "output_type": "execute_result"
    }
   ],
   "source": [
    "first_complaint"
   ]
  },
  {
   "cell_type": "markdown",
   "metadata": {},
   "source": [
    "### Word Tokenizor"
   ]
  },
  {
   "cell_type": "code",
   "execution_count": 33,
   "metadata": {},
   "outputs": [
    {
     "data": {
      "text/plain": [
       "['when',\n",
       " 'my',\n",
       " 'loan',\n",
       " 'was',\n",
       " 'switched',\n",
       " 'over',\n",
       " 'to',\n",
       " 'navient',\n",
       " 'i',\n",
       " 'was',\n",
       " 'never',\n",
       " 'told',\n",
       " 'that',\n",
       " 'i',\n",
       " 'had',\n",
       " 'a',\n",
       " 'deliquint',\n",
       " 'balance',\n",
       " 'because',\n",
       " 'with',\n",
       " 'xxxx',\n",
       " 'i',\n",
       " 'did',\n",
       " 'not',\n",
       " '.',\n",
       " 'when',\n",
       " 'going',\n",
       " 'to',\n",
       " 'purchase',\n",
       " 'a',\n",
       " 'vehicle',\n",
       " 'i',\n",
       " 'discovered',\n",
       " 'my',\n",
       " 'credit',\n",
       " 'score',\n",
       " 'had',\n",
       " 'been',\n",
       " 'dropped',\n",
       " 'from',\n",
       " 'the',\n",
       " 'xxxx',\n",
       " 'into',\n",
       " 'the',\n",
       " 'xxxx',\n",
       " '.',\n",
       " 'i',\n",
       " 'have',\n",
       " 'been',\n",
       " 'faithful',\n",
       " 'at',\n",
       " 'paying',\n",
       " 'my',\n",
       " 'student',\n",
       " 'loan',\n",
       " '.',\n",
       " 'i',\n",
       " 'was',\n",
       " 'told',\n",
       " 'that',\n",
       " 'navient',\n",
       " 'was',\n",
       " 'the',\n",
       " 'company',\n",
       " 'i',\n",
       " 'had',\n",
       " 'delinquency',\n",
       " 'with',\n",
       " '.',\n",
       " 'i',\n",
       " 'contacted',\n",
       " 'navient',\n",
       " 'to',\n",
       " 'resolve',\n",
       " 'this',\n",
       " 'issue',\n",
       " 'you',\n",
       " 'and',\n",
       " 'kept',\n",
       " 'being',\n",
       " 'told',\n",
       " 'to',\n",
       " 'just',\n",
       " 'contact',\n",
       " 'the',\n",
       " 'credit',\n",
       " 'bureaus',\n",
       " 'and',\n",
       " 'expalin',\n",
       " 'the',\n",
       " 'situation',\n",
       " 'and',\n",
       " 'maybe',\n",
       " 'they',\n",
       " 'could',\n",
       " 'help',\n",
       " 'me',\n",
       " '.',\n",
       " 'i',\n",
       " 'was',\n",
       " 'so',\n",
       " 'angry',\n",
       " 'that',\n",
       " 'i',\n",
       " 'just',\n",
       " 'hurried',\n",
       " 'and',\n",
       " 'paid',\n",
       " 'the',\n",
       " 'balance',\n",
       " 'off',\n",
       " 'and',\n",
       " 'then',\n",
       " 'after',\n",
       " 'tried',\n",
       " 'to',\n",
       " 'dispute',\n",
       " 'the',\n",
       " 'delinquency',\n",
       " 'with',\n",
       " 'the',\n",
       " 'credit',\n",
       " 'bureaus',\n",
       " '.',\n",
       " 'i',\n",
       " 'have',\n",
       " 'had',\n",
       " 'so',\n",
       " 'much',\n",
       " 'trouble',\n",
       " 'bringing',\n",
       " 'my',\n",
       " 'credit',\n",
       " 'score',\n",
       " 'back',\n",
       " 'up',\n",
       " '.']"
      ]
     },
     "execution_count": 33,
     "metadata": {},
     "output_type": "execute_result"
    }
   ],
   "source": [
    "def tokenizeWord(text):\n",
    "    return word_tokenize(text)\n",
    "\n",
    "tokenizeWord(first_complaint)"
   ]
  },
  {
   "cell_type": "markdown",
   "metadata": {
    "heading_collapsed": true
   },
   "source": [
    "### Sentence Tokenizor"
   ]
  },
  {
   "cell_type": "code",
   "execution_count": 34,
   "metadata": {
    "hidden": true
   },
   "outputs": [
    {
     "data": {
      "text/plain": [
       "['when my loan was switched over to navient i was never told that i had a deliquint balance because with xxxx i did not.',\n",
       " 'when going to purchase a vehicle i discovered my credit score had been dropped from the xxxx into the xxxx.',\n",
       " 'i have been faithful at paying my student loan.',\n",
       " 'i was told that navient was the company i had delinquency with.',\n",
       " 'i contacted navient to resolve this issue you and kept being told to just contact the credit bureaus and expalin the situation and maybe they could help me.',\n",
       " 'i was so angry that i just hurried and paid the balance off and then after tried to dispute the delinquency with the credit bureaus.',\n",
       " 'i have had so much trouble bringing my credit score back up.']"
      ]
     },
     "execution_count": 34,
     "metadata": {},
     "output_type": "execute_result"
    }
   ],
   "source": [
    "from nltk.tokenize import sent_tokenize\n",
    "\n",
    "def tokenizeSent(text):\n",
    "    return sent_tokenize(text)\n",
    "\n",
    "tokenizeSent(first_complaint)"
   ]
  },
  {
   "cell_type": "markdown",
   "metadata": {},
   "source": [
    "## Stop Words Removal"
   ]
  },
  {
   "cell_type": "code",
   "execution_count": 36,
   "metadata": {},
   "outputs": [
    {
     "data": {
      "text/plain": [
       "'when my loan was switched over to navient i was never told that i had a deliquint balance because with xxxx i did not. when going to purchase a vehicle i discovered my credit score had been dropped from the xxxx into the xxxx. i have been faithful at paying my student loan. i was told that navient was the company i had delinquency with. i contacted navient to resolve this issue you and kept being told to just contact the credit bureaus and expalin the situation and maybe they could help me. i was so angry that i just hurried and paid the balance off and then after tried to dispute the delinquency with the credit bureaus. i have had so much trouble bringing my credit score back up.'"
      ]
     },
     "execution_count": 36,
     "metadata": {},
     "output_type": "execute_result"
    }
   ],
   "source": [
    "first_complaint"
   ]
  },
  {
   "cell_type": "code",
   "execution_count": 62,
   "metadata": {},
   "outputs": [
    {
     "data": {
      "text/plain": [
       "'loan switched navient never told deliquint balance xxxx . going purchase vehicle discovered credit score dropped xxxx xxxx . faithful paying student loan . told navient company delinquency . contacted navient resolve issue kept told contact credit bureaus expalin situation maybe could help . angry hurried paid balance tried dispute delinquency credit bureaus . much trouble bringing credit score back .'"
      ]
     },
     "execution_count": 62,
     "metadata": {},
     "output_type": "execute_result"
    }
   ],
   "source": [
    "from nltk.corpus import stopwords\n",
    "stopWords = stopwords.words('english')\n",
    "def stopWordRemoval(text):\n",
    "    text = convertToLowerCase(text)\n",
    "    text = tokenizeWord(text)\n",
    "    text = ' '.join([word for word in text if word not in stopWords])\n",
    "    return text\n",
    "stopWordRemoval(first_complaint)"
   ]
  },
  {
   "cell_type": "markdown",
   "metadata": {},
   "source": [
    "## Stemming"
   ]
  },
  {
   "cell_type": "markdown",
   "metadata": {},
   "source": [
    "Stemming is the process of converting the words of a sentence to its non-changing portions. So stemming a word or sentence may result in words that are not actual words. Stems are created by removing the suffixes or prefixes used with a word.\n",
    "\n",
    "For eg: Likes, liked, likely, unlike ---> like"
   ]
  },
  {
   "cell_type": "markdown",
   "metadata": {},
   "source": [
    "### Porter Stemmer (Implemented in almost all languages)\n",
    "\n",
    "\n",
    "\n"
   ]
  },
  {
   "cell_type": "code",
   "execution_count": 40,
   "metadata": {},
   "outputs": [
    {
     "name": "stdout",
     "output_type": "stream",
     "text": [
      "['when', 'my', 'loan', 'wa', 'switch', 'over', 'to', 'navient', 'i', 'wa', 'never', 'told', 'that', 'i', 'had', 'a', 'deliquint', 'balanc', 'becaus', 'with', 'xxxx', 'i', 'did', 'not', '.', 'when', 'go', 'to', 'purchas', 'a', 'vehicl', 'i', 'discov', 'my', 'credit', 'score', 'had', 'been', 'drop', 'from', 'the', 'xxxx', 'into', 'the', 'xxxx', '.', 'i', 'have', 'been', 'faith', 'at', 'pay', 'my', 'student', 'loan', '.', 'i', 'wa', 'told', 'that', 'navient', 'wa', 'the', 'compani', 'i', 'had', 'delinqu', 'with', '.', 'i', 'contact', 'navient', 'to', 'resolv', 'thi', 'issu', 'you', 'and', 'kept', 'be', 'told', 'to', 'just', 'contact', 'the', 'credit', 'bureau', 'and', 'expalin', 'the', 'situat', 'and', 'mayb', 'they', 'could', 'help', 'me', '.', 'i', 'wa', 'so', 'angri', 'that', 'i', 'just', 'hurri', 'and', 'paid', 'the', 'balanc', 'off', 'and', 'then', 'after', 'tri', 'to', 'disput', 'the', 'delinqu', 'with', 'the', 'credit', 'bureau', '.', 'i', 'have', 'had', 'so', 'much', 'troubl', 'bring', 'my', 'credit', 'score', 'back', 'up', '.']\n"
     ]
    }
   ],
   "source": [
    "#Breaking the sentence to words\n",
    "words = word_tokenize(first_complaint)\n",
    "\n",
    "#Defining Porter Stemmer object\n",
    "porter = nltk.PorterStemmer()\n",
    "\n",
    "#Applying the stemming\n",
    "portar_stem = [porter.stem(i) for i in words]\n",
    "print(portar_stem)"
   ]
  },
  {
   "cell_type": "markdown",
   "metadata": {
    "heading_collapsed": true
   },
   "source": [
    "### Lancaster Stemmer"
   ]
  },
  {
   "cell_type": "code",
   "execution_count": 45,
   "metadata": {
    "hidden": true
   },
   "outputs": [
    {
     "name": "stdout",
     "output_type": "stream",
     "text": [
      "['when', 'my', 'loan', 'was', 'switch', 'ov', 'to', 'navy', 'i', 'was', 'nev', 'told', 'that', 'i', 'had', 'a', 'deliquint', 'bal', 'becaus', 'with', 'xxxx', 'i', 'did', 'not', '.', 'when', 'going', 'to', 'purchas', 'a', 'vehic', 'i', 'discov', 'my', 'credit', 'scor', 'had', 'been', 'drop', 'from', 'the', 'xxxx', 'into', 'the', 'xxxx', '.', 'i', 'hav', 'been', 'faith', 'at', 'pay', 'my', 'stud', 'loan', '.', 'i', 'was', 'told', 'that', 'navy', 'was', 'the', 'company', 'i', 'had', 'delinqu', 'with', '.', 'i', 'contact', 'navy', 'to', 'resolv', 'thi', 'issu', 'you', 'and', 'kept', 'being', 'told', 'to', 'just', 'contact', 'the', 'credit', 'burea', 'and', 'expalin', 'the', 'situ', 'and', 'mayb', 'they', 'could', 'help', 'me', '.', 'i', 'was', 'so', 'angry', 'that', 'i', 'just', 'hurry', 'and', 'paid', 'the', 'bal', 'off', 'and', 'then', 'aft', 'tri', 'to', 'disput', 'the', 'delinqu', 'with', 'the', 'credit', 'burea', '.', 'i', 'hav', 'had', 'so', 'much', 'troubl', 'bring', 'my', 'credit', 'scor', 'back', 'up', '.']\n"
     ]
    }
   ],
   "source": [
    "#Defining Porter Stemmer object\n",
    "lancaster = nltk.LancasterStemmer()\n",
    "\n",
    "#Applying the stemming\n",
    "lancaster_stem = [lancaster.stem(i) for i in words]\n",
    "print(lancaster_stem)"
   ]
  },
  {
   "cell_type": "markdown",
   "metadata": {
    "heading_collapsed": true
   },
   "source": [
    "### Snowball Stemmer"
   ]
  },
  {
   "cell_type": "code",
   "execution_count": 46,
   "metadata": {
    "hidden": true
   },
   "outputs": [
    {
     "name": "stdout",
     "output_type": "stream",
     "text": [
      "['when', 'my', 'loan', 'was', 'switch', 'over', 'to', 'navient', 'i', 'was', 'never', 'told', 'that', 'i', 'had', 'a', 'deliquint', 'balanc', 'becaus', 'with', 'xxxx', 'i', 'did', 'not', '.', 'when', 'go', 'to', 'purchas', 'a', 'vehicl', 'i', 'discov', 'my', 'credit', 'score', 'had', 'been', 'drop', 'from', 'the', 'xxxx', 'into', 'the', 'xxxx', '.', 'i', 'have', 'been', 'faith', 'at', 'pay', 'my', 'student', 'loan', '.', 'i', 'was', 'told', 'that', 'navient', 'was', 'the', 'compani', 'i', 'had', 'delinqu', 'with', '.', 'i', 'contact', 'navient', 'to', 'resolv', 'this', 'issu', 'you', 'and', 'kept', 'be', 'told', 'to', 'just', 'contact', 'the', 'credit', 'bureaus', 'and', 'expalin', 'the', 'situat', 'and', 'mayb', 'they', 'could', 'help', 'me', '.', 'i', 'was', 'so', 'angri', 'that', 'i', 'just', 'hurri', 'and', 'paid', 'the', 'balanc', 'off', 'and', 'then', 'after', 'tri', 'to', 'disput', 'the', 'delinqu', 'with', 'the', 'credit', 'bureaus', '.', 'i', 'have', 'had', 'so', 'much', 'troubl', 'bring', 'my', 'credit', 'score', 'back', 'up', '.']\n"
     ]
    }
   ],
   "source": [
    "sno = nltk.stem.SnowballStemmer('english')\n",
    "#Applying the stemming\n",
    "sno_stem = [sno.stem(i) for i in words]\n",
    "print(sno_stem)"
   ]
  },
  {
   "cell_type": "markdown",
   "metadata": {
    "heading_collapsed": true
   },
   "source": [
    "## Lemmatization"
   ]
  },
  {
   "cell_type": "markdown",
   "metadata": {
    "hidden": true
   },
   "source": [
    "This method is a more refined way of breaking words through the use of a vocabulary and morphological analysis of words. The aim is to always return the base form of a word known as lemma.\n",
    "\n",
    "Consider the following words:<br>\n",
    "'Studied', 'Studious' ,'Studying'<br>\n",
    "Stemming of them will result in Studi<br>\n",
    "Lemmatisation of them will result in Study"
   ]
  },
  {
   "cell_type": "markdown",
   "metadata": {
    "hidden": true
   },
   "source": [
    "\n",
    "'Studied', 'Studious' ,'Studying'<br>\n",
    "Stemming of them will result in Studi<br>\n",
    "Lemmatisation of them will result in Study<br>\n",
    "\n",
    "Difference<br>\n",
    "\n",
    "Stem         Lemm<br>\n",
    "Fast         Slow<br>\n",
    "Rule Based   Dictionary Based<br>"
   ]
  },
  {
   "cell_type": "code",
   "execution_count": 48,
   "metadata": {
    "hidden": true
   },
   "outputs": [
    {
     "name": "stdout",
     "output_type": "stream",
     "text": [
      "['when', 'my', 'loan', 'wa', 'switched', 'over', 'to', 'navient', 'i', 'wa', 'never', 'told', 'that', 'i', 'had', 'a', 'deliquint', 'balance', 'because', 'with', 'xxxx', 'i', 'did', 'not', '.', 'when', 'going', 'to', 'purchase', 'a', 'vehicle', 'i', 'discovered', 'my', 'credit', 'score', 'had', 'been', 'dropped', 'from', 'the', 'xxxx', 'into', 'the', 'xxxx', '.', 'i', 'have', 'been', 'faithful', 'at', 'paying', 'my', 'student', 'loan', '.', 'i', 'wa', 'told', 'that', 'navient', 'wa', 'the', 'company', 'i', 'had', 'delinquency', 'with', '.', 'i', 'contacted', 'navient', 'to', 'resolve', 'this', 'issue', 'you', 'and', 'kept', 'being', 'told', 'to', 'just', 'contact', 'the', 'credit', 'bureau', 'and', 'expalin', 'the', 'situation', 'and', 'maybe', 'they', 'could', 'help', 'me', '.', 'i', 'wa', 'so', 'angry', 'that', 'i', 'just', 'hurried', 'and', 'paid', 'the', 'balance', 'off', 'and', 'then', 'after', 'tried', 'to', 'dispute', 'the', 'delinquency', 'with', 'the', 'credit', 'bureau', '.', 'i', 'have', 'had', 'so', 'much', 'trouble', 'bringing', 'my', 'credit', 'score', 'back', 'up', '.']\n"
     ]
    }
   ],
   "source": [
    "from nltk.stem import WordNetLemmatizer\n",
    "\n",
    "lemma = WordNetLemmatizer()\n",
    "lemma_result = [lemma.lemmatize(i) for i in words]\n",
    "print(lemma_result)"
   ]
  },
  {
   "cell_type": "markdown",
   "metadata": {
    "hidden": true
   },
   "source": [
    "##### Difference \n",
    "The word \"meeting\" can have base form of a noun or a form of a verb (\"to meet\") [(e.g.,\"in last week's meeting\"(noun) or \"We are meeting next month\"(verb))]. Lemmatisation can select the appropriate lemma depending on the context, stemming can't."
   ]
  },
  {
   "cell_type": "code",
   "execution_count": 49,
   "metadata": {
    "hidden": true
   },
   "outputs": [],
   "source": [
    "word1 = \"in last week's meeting\"\n",
    "word2 = \"We are meeting next month\""
   ]
  },
  {
   "cell_type": "code",
   "execution_count": 53,
   "metadata": {
    "hidden": true
   },
   "outputs": [
    {
     "name": "stdout",
     "output_type": "stream",
     "text": [
      "in last week's meeting\n",
      "We are meeting next month\n",
      "in last week's meet\n",
      "we are meeting next month\n"
     ]
    }
   ],
   "source": [
    "lemma_result = lemma.lemmatize(word1)\n",
    "print(lemma_result)\n",
    "\n",
    "lemma_result = lemma.lemmatize(word2)\n",
    "print(lemma_result)\n",
    "\n",
    "\n",
    "#Applying the stemming\n",
    "portar_stem = porter.stem(word1)\n",
    "print(portar_stem)\n",
    "\n",
    "portar_stem = porter.stem(word2)\n",
    "print(portar_stem)"
   ]
  },
  {
   "cell_type": "markdown",
   "metadata": {},
   "source": [
    "# Pre process"
   ]
  },
  {
   "cell_type": "code",
   "execution_count": 64,
   "metadata": {},
   "outputs": [
    {
     "data": {
      "text/plain": [
       "'when my loan wa switch over to navient i wa never told that i had a deliquint balanc becaus with xxxx i did not . when go to purchas a vehicl i discov my credit score had been drop from the xxxx into the xxxx . i have been faith at pay my student loan . i wa told that navient wa the compani i had delinqu with . i contact navient to resolv thi issu you and kept be told to just contact the credit bureau and expalin the situat and mayb they could help me . i wa so angri that i just hurri and paid the balanc off and then after tri to disput the delinqu with the credit bureau . i have had so much troubl bring my credit score back up .'"
      ]
     },
     "execution_count": 64,
     "metadata": {},
     "output_type": "execute_result"
    }
   ],
   "source": [
    "specialChars = [',',';','.','#','$']\n",
    "def specialCharRemoval(text):\n",
    "    for char in specialChars:\n",
    "        text = text.replace(char,'')\n",
    "    return text\n",
    "specialCharRemoval(first_complaint)\n",
    "\n",
    "\n",
    "\n",
    "from nltk.stem import PorterStemmer\n",
    "ps = PorterStemmer()\n",
    "#ps.stem('giving')\n",
    "def stemData(text):\n",
    "    text = convertToLowerCase(text)\n",
    "    text = word_tokenize(text)\n",
    "    newText = []\n",
    "    for word in text:\n",
    "        newText.append(ps.stem(word))\n",
    "    return ' '.join(newText)\n",
    "stemData(first_complaint)\n"
   ]
  },
  {
   "cell_type": "code",
   "execution_count": 65,
   "metadata": {},
   "outputs": [
    {
     "data": {
      "text/plain": [
       "'loan switch navient never told deliquint balanc xxxx go purchas vehicl discov credit score drop xxxx xxxx faith pay student loan told navient compani delinqu contact navient resolv issu kept told contact credit bureau expalin situat mayb could help angri hurri paid balanc tri disput delinqu credit bureau much troubl bring credit score back'"
      ]
     },
     "execution_count": 65,
     "metadata": {},
     "output_type": "execute_result"
    }
   ],
   "source": [
    "def preprocess(text):\n",
    "    try:\n",
    "        text = convertToLowerCase(text)\n",
    "        text = tokenizeWord(text)\n",
    "        text = specialCharRemoval(' '.join(text))\n",
    "        text = stopWordRemoval(text)\n",
    "        text = stemData(text)\n",
    "    except:\n",
    "        pass\n",
    "    return text\n",
    "preprocess(first_complaint)"
   ]
  },
  {
   "cell_type": "code",
   "execution_count": 67,
   "metadata": {},
   "outputs": [
    {
     "data": {
      "text/html": [
       "<div>\n",
       "<style scoped>\n",
       "    .dataframe tbody tr th:only-of-type {\n",
       "        vertical-align: middle;\n",
       "    }\n",
       "\n",
       "    .dataframe tbody tr th {\n",
       "        vertical-align: top;\n",
       "    }\n",
       "\n",
       "    .dataframe thead th {\n",
       "        text-align: right;\n",
       "    }\n",
       "</style>\n",
       "<table border=\"1\" class=\"dataframe\">\n",
       "  <thead>\n",
       "    <tr style=\"text-align: right;\">\n",
       "      <th></th>\n",
       "      <th>X</th>\n",
       "      <th>y</th>\n",
       "    </tr>\n",
       "  </thead>\n",
       "  <tbody>\n",
       "    <tr>\n",
       "      <th>1</th>\n",
       "      <td>When my loan was switched over to Navient i wa...</td>\n",
       "      <td>Student loan</td>\n",
       "    </tr>\n",
       "    <tr>\n",
       "      <th>2</th>\n",
       "      <td>I tried to sign up for a spending monitoring p...</td>\n",
       "      <td>Credit card or prepaid card</td>\n",
       "    </tr>\n",
       "  </tbody>\n",
       "</table>\n",
       "</div>"
      ],
      "text/plain": [
       "                                                   X  \\\n",
       "1  When my loan was switched over to Navient i wa...   \n",
       "2  I tried to sign up for a spending monitoring p...   \n",
       "\n",
       "                             y  \n",
       "1                 Student loan  \n",
       "2  Credit card or prepaid card  "
      ]
     },
     "execution_count": 67,
     "metadata": {},
     "output_type": "execute_result"
    }
   ],
   "source": [
    "dataSub.head(2)"
   ]
  },
  {
   "cell_type": "code",
   "execution_count": 68,
   "metadata": {},
   "outputs": [
    {
     "name": "stderr",
     "output_type": "stream",
     "text": [
      "/opt/anaconda3/lib/python3.7/site-packages/ipykernel_launcher.py:1: SettingWithCopyWarning: \n",
      "A value is trying to be set on a copy of a slice from a DataFrame.\n",
      "Try using .loc[row_indexer,col_indexer] = value instead\n",
      "\n",
      "See the caveats in the documentation: https://pandas.pydata.org/pandas-docs/stable/user_guide/indexing.html#returning-a-view-versus-a-copy\n",
      "  \"\"\"Entry point for launching an IPython kernel.\n"
     ]
    }
   ],
   "source": [
    "dataSub['X'] = dataSub['X'].apply(preprocess)"
   ]
  },
  {
   "cell_type": "code",
   "execution_count": 69,
   "metadata": {},
   "outputs": [
    {
     "data": {
      "text/html": [
       "<div>\n",
       "<style scoped>\n",
       "    .dataframe tbody tr th:only-of-type {\n",
       "        vertical-align: middle;\n",
       "    }\n",
       "\n",
       "    .dataframe tbody tr th {\n",
       "        vertical-align: top;\n",
       "    }\n",
       "\n",
       "    .dataframe thead th {\n",
       "        text-align: right;\n",
       "    }\n",
       "</style>\n",
       "<table border=\"1\" class=\"dataframe\">\n",
       "  <thead>\n",
       "    <tr style=\"text-align: right;\">\n",
       "      <th></th>\n",
       "      <th>X</th>\n",
       "      <th>y</th>\n",
       "    </tr>\n",
       "  </thead>\n",
       "  <tbody>\n",
       "    <tr>\n",
       "      <th>1</th>\n",
       "      <td>loan switch navient never told deliquint balan...</td>\n",
       "      <td>Student loan</td>\n",
       "    </tr>\n",
       "    <tr>\n",
       "      <th>2</th>\n",
       "      <td>tri sign spend monitor program capit one let a...</td>\n",
       "      <td>Credit card or prepaid card</td>\n",
       "    </tr>\n",
       "  </tbody>\n",
       "</table>\n",
       "</div>"
      ],
      "text/plain": [
       "                                                   X  \\\n",
       "1  loan switch navient never told deliquint balan...   \n",
       "2  tri sign spend monitor program capit one let a...   \n",
       "\n",
       "                             y  \n",
       "1                 Student loan  \n",
       "2  Credit card or prepaid card  "
      ]
     },
     "execution_count": 69,
     "metadata": {},
     "output_type": "execute_result"
    }
   ],
   "source": [
    "dataSub.head(2)"
   ]
  },
  {
   "cell_type": "code",
   "execution_count": null,
   "metadata": {},
   "outputs": [],
   "source": []
  }
 ],
 "metadata": {
  "kernelspec": {
   "display_name": "Python 3",
   "language": "python",
   "name": "python3"
  },
  "language_info": {
   "codemirror_mode": {
    "name": "ipython",
    "version": 3
   },
   "file_extension": ".py",
   "mimetype": "text/x-python",
   "name": "python",
   "nbconvert_exporter": "python",
   "pygments_lexer": "ipython3",
   "version": "3.7.6"
  },
  "toc": {
   "base_numbering": 1,
   "nav_menu": {},
   "number_sections": true,
   "sideBar": true,
   "skip_h1_title": false,
   "title_cell": "Table of Contents",
   "title_sidebar": "Contents",
   "toc_cell": false,
   "toc_position": {},
   "toc_section_display": true,
   "toc_window_display": true
  }
 },
 "nbformat": 4,
 "nbformat_minor": 4
}
